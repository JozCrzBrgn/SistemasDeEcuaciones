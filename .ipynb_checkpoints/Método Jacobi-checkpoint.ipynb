{
 "cells": [
  {
   "cell_type": "markdown",
   "metadata": {},
   "source": [
    "# <p style=\"text-align: center\"> *MÉTODO DE JACOBI PARA SISTEMAS DE ECUACIONES LINEALES*"
   ]
  },
  {
   "cell_type": "markdown",
   "metadata": {},
   "source": [
    "## A) DEDUCCIÓN DEL MÉTODO DE JACOBI"
   ]
  },
  {
   "cell_type": "markdown",
   "metadata": {},
   "source": [
    "![Demos](https://user-images.githubusercontent.com/47722525/78714005-b69d7000-78e0-11ea-9095-894e5cd223ff.png)"
   ]
  },
  {
   "cell_type": "markdown",
   "metadata": {},
   "source": [
    "## B) FÓRMULA MATEMÁTICA."
   ]
  },
  {
   "cell_type": "markdown",
   "metadata": {},
   "source": [
    "### De manera semejante al método del punto fijo, la expresión anterior se puede escribir de manera iterativa como:"
   ]
  },
  {
   "cell_type": "markdown",
   "metadata": {},
   "source": [
    "![FormJaco](https://user-images.githubusercontent.com/47722525/78714154-fe23fc00-78e0-11ea-8e35-e2d35c3bbe15.png)"
   ]
  },
  {
   "cell_type": "markdown",
   "metadata": {},
   "source": [
    "## C) DIAGRAMA DE FLUJO DEL MÉTODO DE JACOBI."
   ]
  },
  {
   "cell_type": "markdown",
   "metadata": {},
   "source": [
    "![DiagFlujo](https://user-images.githubusercontent.com/47722525/78714289-3d524d00-78e1-11ea-82c0-3fa8e64b398e.png)"
   ]
  },
  {
   "cell_type": "markdown",
   "metadata": {},
   "source": [
    "## D) PROGRAMACIÓN DEL MÉTODO DE JACOBI."
   ]
  },
  {
   "cell_type": "code",
   "execution_count": 1,
   "metadata": {},
   "outputs": [],
   "source": [
    "# Librerias \n",
    "import numpy as np\n",
    "\n",
    "# Función\n",
    "def Jacobi(A,b,xo):\n",
    "    '''\n",
    "    (A,b,xo) -> x\n",
    "    Devuelve la solución de un sistema de ecuaciones de la forma \"Ax = b\".\n",
    "\n",
    "    Inputs:\n",
    "    A ---- Matriz simetrica nxn.\n",
    "    b ---- Vector de nx1. \n",
    "    xo  -- Vector aproximado de la solución.\n",
    "    \n",
    "    Output:\n",
    "    x = Solución del sistema de ecuaciones.\n",
    "    \n",
    "    Programó:\n",
    "    Ing. Josue Emmanuel Cruz Barragan\n",
    "    '''\n",
    "    \n",
    "    #Funcion para obtener la matriz diagonal inversa\n",
    "    def diagonal_inv(mat):\n",
    "        [row,col] = mat.shape\n",
    "        Diag = np.zeros((row,col))\n",
    "        for i in range(row):\n",
    "            for j in range(col):\n",
    "                if i == j:\n",
    "                    Diag[i][j] = 1/A[i][j]\n",
    "        return Diag \n",
    "    \n",
    "    \n",
    "    ''' Procedimiento de Jacobi '''\n",
    "    tol = 0.0001 # Tolerancia\n",
    "    error = 100 # Error inicial\n",
    "    U = np.triu(A, k=1) # Matriz superior \n",
    "    L = np.tril(A, k=-1) # Matriz inferior \n",
    "    R = L+U\n",
    "    Dinv = diagonal_inv(A) # Matriz diagonal inversa\n",
    "    Gerr = [100]\n",
    "    while error>tol:\n",
    "        if error == 100:\n",
    "            x1 = xo\n",
    "            x2 = np.matmul(Dinv,(b-np.matmul(R,x1)))\n",
    "            x1_err = np.linalg.norm(x1)\n",
    "            x2_err = np.linalg.norm(x2)\n",
    "            error = abs((x2_err-x1_err)/x2_err)*100\n",
    "            Gerr.append(error)\n",
    "            x1 = x2\n",
    "        else:\n",
    "            x2 = np.matmul(Dinv,(b-np.matmul(R,x1)))\n",
    "            x1_err = np.linalg.norm(x1)\n",
    "            x2_err = np.linalg.norm(x2)\n",
    "            error = abs((x2_err-x1_err)/x2_err)*100\n",
    "            Gerr.append(error)\n",
    "            x1 = x2\n",
    "            \n",
    "    return x2,Gerr"
   ]
  },
  {
   "cell_type": "markdown",
   "metadata": {},
   "source": [
    "## E) APLICACIÓN DEL MÉTODO DE JACOBI A LA HIDRÁULICA."
   ]
  },
  {
   "cell_type": "markdown",
   "metadata": {},
   "source": [
    "### <font color='blue'>EJEMPLO .- CÁLCULO DE LOS CAUDALES Y LAS ALTURAS PIEZOMÉTRICAS QUE PASAN POR UNA RED DE DISTRIBUCIÓN DE AGUA POTABLE.</font>"
   ]
  },
  {
   "cell_type": "markdown",
   "metadata": {},
   "source": [
    "### _Dada la siguiente red determine los caudales en las tuberías y las alturas piezometricas en los nodos de la red de distribución de agua potable que se muestra a continuación:_"
   ]
  },
  {
   "cell_type": "markdown",
   "metadata": {},
   "source": [
    "![Red](https://user-images.githubusercontent.com/47722525/78714444-873b3300-78e1-11ea-9d78-905e7c8ee319.png)"
   ]
  },
  {
   "cell_type": "markdown",
   "metadata": {},
   "source": [
    "### _Con esa información muestre las máximas y mínimas velocidades y alturas en la red:_"
   ]
  },
  {
   "cell_type": "markdown",
   "metadata": {},
   "source": [
    "### SOLUCIÓN."
   ]
  },
  {
   "cell_type": "markdown",
   "metadata": {},
   "source": [
    "#### Para solucionar esta red se utilizará el método del gradiente. A continuación se resume el método del gradiente:"
   ]
  },
  {
   "cell_type": "markdown",
   "metadata": {},
   "source": [
    "### <font color='green'>a) Descripción del método del gradiente:</font>"
   ]
  },
  {
   "cell_type": "markdown",
   "metadata": {},
   "source": [
    "#### 1.- Se suponen unos caudales iniciales en cada uno de los tubos de la red (no necesariamente balanceados, lo cual implica ahorro de tiempo.\n",
    "#### 2.- Utilizando el método de Jacobi para sistemas de ecuaciones lineales simultaneas se resuelve el siguiente sistema:"
   ]
  },
  {
   "cell_type": "markdown",
   "metadata": {},
   "source": [
    "![Grad1](https://user-images.githubusercontent.com/47722525/78714845-206a4980-78e2-11ea-8ff2-754553df773c.png)"
   ]
  },
  {
   "cell_type": "markdown",
   "metadata": {},
   "source": [
    "#### 3.- Con H(i+1) calculado se utiliza la siguiente ecuación para calcular Q(i+1): "
   ]
  },
  {
   "cell_type": "markdown",
   "metadata": {},
   "source": [
    "![Grad2](https://user-images.githubusercontent.com/47722525/78714917-409a0880-78e2-11ea-8b20-132ae5e05b5d.png)\n"
   ]
  },
  {
   "cell_type": "markdown",
   "metadata": {},
   "source": [
    "#### 4.- Con este Q(i+1) se vuelve a ensamblar el sistema del paso 2 para encontrar un nuevo H(i+1).\n",
    "#### 5.- El proceso se repite hasta que en dos iteraciones sucesivas H(i+1) sea aproximadamente igual a  H(i)"
   ]
  },
  {
   "cell_type": "markdown",
   "metadata": {},
   "source": [
    "### <font color='green'>b) Programación del método del gradiente usando el método de Jacobi:</font>"
   ]
  },
  {
   "cell_type": "code",
   "execution_count": 6,
   "metadata": {},
   "outputs": [],
   "source": [
    "# Librerias\n",
    "import numpy as np\n",
    "import math\n",
    "\n",
    "# Funciones\n",
    "'''\n",
    "    Formula de Colebrook-White\n",
    "'''\n",
    "def Colebrook_White(Re,ks,d):\n",
    "    tol = 0.001\n",
    "    error = 100\n",
    "    \n",
    "    def Log(var):\n",
    "        return math.log10(var)\n",
    "    \n",
    "    def Ln(var):\n",
    "        return math.log(var)\n",
    "    \n",
    "    def Fricc(Re,ks,d,f):\n",
    "        a = ks/(3.7*d)\n",
    "        b = 2.51*f/Re\n",
    "\n",
    "        return -2*Log(a+b)-f\n",
    "    \n",
    "    def Fricc_p(Re,ks,d,f):\n",
    "        a = -2/Ln(10)\n",
    "        b = ks/(3.7*d)\n",
    "        c = 2.51*f/Re\n",
    "        d = 2.51/Re\n",
    "        return (a*d/(b+c))-1\n",
    "    \n",
    "    while error >= tol:\n",
    "        if error == 100:\n",
    "            x1 = 1/math.sqrt(0.001)\n",
    "            Fxp = Fricc_p(Re,ks,d,x1)\n",
    "            Fx = Fricc(Re,ks,d,x1)\n",
    "            x2 = x1 - (Fx/Fxp)\n",
    "            error = abs((x2-x1)/x2)*100\n",
    "            x1 = x2\n",
    "        else:\n",
    "            Fxp = Fricc_p(Re,ks,d,x1)\n",
    "            Fx = Fricc(Re,ks,d,x1)\n",
    "            x2 = x1 - (Fx/Fxp)\n",
    "            error = abs((x2-x1)/x2)*100\n",
    "            x1 = x2\n",
    "    return 1/(x1**2)\n",
    "    \n",
    "'''\n",
    "    Velocidad\n",
    "'''\n",
    "def V(A,Q):\n",
    "    return Q/A\n",
    "\n",
    "'''\n",
    "    Reynolds\n",
    "'''\n",
    "def Re(V,d):\n",
    "    # Viscosidad\n",
    "    v = 1.141*10**-6\n",
    "    return abs(V*d/v)\n",
    "\n",
    "\n",
    "'''\n",
    "    Clase para armar Nodos\n",
    "'''\n",
    "class Nodos:\n",
    "    def __init__ (self, NumeroNodo, Gasto_o_Altura, Tipo_elemento,Nivel_Topografico):\n",
    "        self.nn = NumeroNodo\n",
    "        self.tipo = Tipo_elemento\n",
    "        self.msnm = Nivel_Topografico\n",
    "        self.q = 0 # Gasto de demanda nodal\n",
    "        self.h = 0 # Altura del embalse\n",
    "        \n",
    "        if self.tipo == 'E':\n",
    "            self.h = Gasto_o_Altura\n",
    "        elif self.tipo == 'N':\n",
    "            self.q = Gasto_o_Altura/1000\n",
    "        \n",
    "'''\n",
    "    Clase para armar Tuberias\n",
    "''' \n",
    "class Tuberias:\n",
    "    def __init__ (self,Num_tub,n_ini,n_fin,Longiud,diametro,perd_menores,Rugosidad_Absoluta):\n",
    "        self.ni = n_ini\n",
    "        self.nf = n_fin\n",
    "        self.nt = Num_tub\n",
    "        self.L = Longiud\n",
    "        self.d = diametro/1000\n",
    "        self.km = perd_menores\n",
    "        self.ks = Rugosidad_Absoluta/1000\n",
    "    \n",
    "    def Direccion(self):\n",
    "        return [self.ni,self.nf]\n",
    "    \n",
    "    def Area(self):\n",
    "        return 0.25*math.pi*self.d**2\n",
    "\n",
    "'''\n",
    "    Clase del Método del Gradiente\n",
    "'''\n",
    "class Gradiente:\n",
    "    def __init__(self,List_tuberias,List_nodos,Viscocidad_dinamica):\n",
    "        self.Lt = List_tuberias\n",
    "        self.Ln = List_nodos\n",
    "        self.v = Viscocidad_dinamica\n",
    "        self.n_dw = 2\n",
    "        self.NT = len(self.Lt)\n",
    "        self.NN = 0\n",
    "        self.NS = 0\n",
    "        self.A12 = []\n",
    "        self.A21 = []\n",
    "        self.A10 = []\n",
    "        self.N = []\n",
    "        self.Qd = []\n",
    "        self.Ho = []\n",
    "        self.Cota = []\n",
    "        \n",
    "        # Numero de Nodos y Envalses\n",
    "        for i in range(len(self.Ln)):\n",
    "            if self.Ln[i].tipo == 'E':\n",
    "                self.NS += 1 \n",
    "            elif self.Ln[i].tipo == 'N':\n",
    "                self.NN += 1\n",
    "                \n",
    "        # Matriz de conectividad (-1 inicio y 1 final)\n",
    "        A12 = np.zeros((self.NT, self.NN + self.NS))\n",
    "        Cota = np.zeros((self.NT,2))\n",
    "        for i in range(self.NT):\n",
    "            ni = self.Lt[i].Direccion()[0]-1\n",
    "            nf = self.Lt[i].Direccion()[1]-1\n",
    "            A12[i][ni] = -1\n",
    "            A12[i][nf] = 1\n",
    "            Cota[i][0] = self.Ln[self.Lt[i].ni-1].msnm\n",
    "            Cota[i][1] = self.Ln[self.Lt[i].nf-1].msnm\n",
    "        self.A12 = A12[:,self.NS:(self.NN + self.NS)]\n",
    "        self.Cota = Cota\n",
    "        \n",
    "        # Matriz Transpuesta de A12 --> A21\n",
    "        self.A21 = np.transpose(self.A12)\n",
    "        \n",
    "        # Matriz A10  \n",
    "        self.A10 = A12[:,0:self.NS]\n",
    "        \n",
    "        # Matriz Identidad I\n",
    "        self.I = np.eye(self.NT)\n",
    "        \n",
    "        # Matriz diagonal Darcy-Weisbach\n",
    "        self.N = np.eye(self.NT)*self.n_dw\n",
    "        \n",
    "        # Vector de Gastos de Demanda (Qd) y Altura (Ho)\n",
    "        self.Qd = np.zeros((self.NN,1))\n",
    "        self.Ho = np.zeros((self.NS,1))\n",
    "        row_q = 0\n",
    "        row_h = 0\n",
    "        for i in range(len(self.Ln)):\n",
    "            if self.Ln[i].tipo == 'N':\n",
    "                self.Qd[row_q] = self.Ln[i].q\n",
    "                row_q+=1\n",
    "            elif self.Ln[i].tipo == 'E':\n",
    "                self.Ho[row_h] = self.Ln[i].h\n",
    "                row_h+=1\n",
    "                \n",
    "        \n",
    "                \n",
    "    '''\n",
    "        Formula de Velocidad\n",
    "    '''\n",
    "    def _Vel(self,A,Q):\n",
    "        return Q/A\n",
    "\n",
    "    '''\n",
    "        Formula de Reynolds\n",
    "    '''\n",
    "    def _Re(self,V,d):\n",
    "        return abs(V*d/self.v)\n",
    "                \n",
    "    '''\n",
    "        Formula de Colebrook-White\n",
    "    '''\n",
    "    def _Colebrook_White(self,Re,d,ks):\n",
    "        tol = 0.001\n",
    "        error = 100\n",
    "\n",
    "        def Log(var):\n",
    "            return math.log10(var)\n",
    "\n",
    "        def Ln(var):\n",
    "            return math.log(var)\n",
    "\n",
    "        def Fricc(Re,d,f):\n",
    "            a = ks/(3.7*d) \n",
    "            b = 2.51*f/Re\n",
    "\n",
    "            return -2*Log(a+b)-f\n",
    "\n",
    "        def Fricc_p(Re,d,f):\n",
    "            a = -2/Ln(10)\n",
    "            b = ks/(3.7*d) \n",
    "            c = 2.51*f/Re\n",
    "            d = 2.51/Re\n",
    "            return (a*d/(b+c))-1\n",
    "\n",
    "        while error >= tol:\n",
    "            if error == 100:\n",
    "                x1 = 1/math.sqrt(0.001)\n",
    "            Fxp = Fricc_p(Re,d,x1)\n",
    "            Fx = Fricc(Re,d,x1)\n",
    "            x2 = x1 - (Fx/Fxp)\n",
    "            error = abs((x2-x1)/x2)*100\n",
    "            x1 = x2\n",
    "        return 1/(x1**2)\n",
    "    \n",
    "    def Resolver(self):\n",
    "        \n",
    "        # Inicializacion de variables\n",
    "        Tu = self.Lt; No = self.Ln; A12 = self.A12; A21 = self.A21; A10 = self.A10\n",
    "        N = self.N; I = self.I; n = self.n_dw; NT = self.NT; Ho = self.Ho; Qd = self.Qd\n",
    "        NN = self.NN; z = self.Cota\n",
    "        itera = 1\n",
    "        er = 100\n",
    "        Err=[100]\n",
    "        # Iteraciones\n",
    "        while er > 0.0000001:\n",
    "            A11 = np.zeros((NT,NT))\n",
    "            A11_p = np.zeros((NT,NT))\n",
    "            if itera == 1:\n",
    "                Qi = np.ones((NT, 1)) * 0.1\n",
    "                \n",
    "            for j in range(self.NT): \n",
    "                V = self._Vel(Tu[j].Area(),Qi[j])\n",
    "                Re = self._Re(V,Tu[j].d)\n",
    "                f = self._Colebrook_White(Re,Tu[j].d,Tu[j].ks)\n",
    "                alpha = ((f*Tu[j].L/Tu[j].d)+Tu[j].km)/(2*9.81*Tu[j].Area()**2)\n",
    "                beta = 0\n",
    "                gamma = 0\n",
    "                a = alpha*(Qi[j]**(n-1))\n",
    "                b = beta\n",
    "                c = gamma/Qi[j]\n",
    "                A11[j][j] = a + b + c\n",
    "                A11_p[j][j] = a\n",
    "                \n",
    "            ''' Calculo de la Altura Piezometrica H(i+1) utilizando el método de Jacobi ''' \n",
    "            h1 = np.linalg.inv(np.matmul(N,A11_p))\n",
    "            h2 = np.matmul(np.matmul(A21,h1),A12)*-1 # ------> Matriz A para el método de Jacobi.\n",
    "            h3 = np.matmul(A11,Qi)+np.matmul(A10,Ho)\n",
    "            h4 = np.matmul(np.matmul(A21,h1),h3)\n",
    "            h5 = h4 - np.matmul(A21,Qi) + Qd # --------------> Matriz b para el método de Jacobi.\n",
    "            xo = np.ones((NN,1))*0.1 # ----------------------> Matriz xo para el método de Jacobi.\n",
    "            [H,ex] = Jacobi(h2,h5,xo) # ---------------------> Solución del sistema empleando Jacobi.\n",
    "            \n",
    "            # Calculo del Caudal Q(i+1) \n",
    "            Qanterior = np.linalg.norm(Qi)\n",
    "            q1 = I - np.matmul(h1,A11)\n",
    "            q2 = np.matmul(A12,H) + np.matmul(A10,Ho)\n",
    "            Qi = np.matmul(q1,Qi) - np.matmul(h1,q2)\n",
    "            Qactual = np.linalg.norm(Qi)\n",
    "            \n",
    "            # Error Relativo Porcentual\n",
    "            er  = abs((Qactual-Qanterior)/Qactual)*100\n",
    "            Err.append(er)\n",
    "            itera += 1\n",
    "        # Velocidades\n",
    "        Vi = np.zeros((NT,1))\n",
    "        for k in range(len(Qi)):\n",
    "            Vi[k] = Qi[k]/Tu[k].Area()\n",
    "\n",
    "            \n",
    "        return Qi*1000,Vi,H,Err"
   ]
  },
  {
   "cell_type": "markdown",
   "metadata": {},
   "source": [
    "### <font color='green'>c) Datos:</font>"
   ]
  },
  {
   "cell_type": "code",
   "execution_count": 7,
   "metadata": {},
   "outputs": [],
   "source": [
    "''' NODOS '''\n",
    "Nod = []\n",
    "#                   nod, demanda, tipo, cota\n",
    "Nod.append(Nodos(1,   95,      'E',  0))\n",
    "Nod.append(Nodos(2,   50,      'N',  0))\n",
    "Nod.append(Nodos(3,   35,      'N',  0))\n",
    "Nod.append(Nodos(4,   25,      'N',  0))\n",
    "Nod.append(Nodos(5,   45,      'N',  0))\n",
    "Nod.append(Nodos(6,   27,      'N',  0))\n",
    "Nod.append(Nodos(7,   33,      'N',  0))\n",
    "Nod.append(Nodos(8,   17,      'N',  0))\n",
    "\n",
    "''' TUBERÍAS '''\n",
    "Tub = []\n",
    "#                       tub ,ni ,nf ,Long ,Diam ,km   ,ks\n",
    "Tub.append(Tuberias( 1   ,1  ,3  ,270  ,250  ,3.2  ,0.03))\n",
    "Tub.append(Tuberias( 2   ,1  ,2  ,160  ,250  ,3.5  ,0.03))\n",
    "Tub.append(Tuberias( 3   ,3  ,4  ,158  ,200  ,4.2  ,0.0015))\n",
    "Tub.append(Tuberias( 4   ,2  ,5  ,165  ,200  ,3.6  ,0.0015))\n",
    "Tub.append(Tuberias( 5   ,2  ,4  ,270  ,150  ,2.4  ,0.0015))\n",
    "Tub.append(Tuberias( 6   ,5  ,6  ,290  ,150  ,0    ,0.0015))\n",
    "Tub.append(Tuberias( 7   ,4  ,6  ,164  ,100  ,1.6  ,0.0015))\n",
    "Tub.append(Tuberias( 8   ,4  ,7  ,272  ,100  ,4.2  ,0.0015))\n",
    "Tub.append(Tuberias( 9   ,6  ,8  ,250  ,100  ,0    ,0.0015))\n",
    "Tub.append(Tuberias(10   ,8  ,7  ,1168 ,75   ,0    ,0.0015))"
   ]
  },
  {
   "cell_type": "markdown",
   "metadata": {},
   "source": [
    "### <font color='green'>d) Resultados:</font>"
   ]
  },
  {
   "cell_type": "code",
   "execution_count": 8,
   "metadata": {},
   "outputs": [],
   "source": [
    "# Sustitumos:\n",
    "[Q,V,H,e] = Gradiente(Tub,Nod,1.141*10**-6).Resolver()"
   ]
  },
  {
   "cell_type": "markdown",
   "metadata": {},
   "source": [
    "#### Caudal en cada tubería:"
   ]
  },
  {
   "cell_type": "code",
   "execution_count": 9,
   "metadata": {},
   "outputs": [
    {
     "name": "stdout",
     "output_type": "stream",
     "text": [
      "Tubería: 1 Caudal: 93.31 L/s\n",
      "Tubería: 2 Caudal: 138.69 L/s\n",
      "Tubería: 3 Caudal: 58.31 L/s\n",
      "Tubería: 4 Caudal: 74.48 L/s\n",
      "Tubería: 5 Caudal: 14.21 L/s\n",
      "Tubería: 6 Caudal: 29.48 L/s\n",
      "Tubería: 7 Caudal: 18.03 L/s\n",
      "Tubería: 8 Caudal: 29.49 L/s\n",
      "Tubería: 9 Caudal: 20.51 L/s\n",
      "Tubería: 10 Caudal: 3.51 L/s\n"
     ]
    }
   ],
   "source": [
    "c = 1\n",
    "for q in Q:\n",
    "    print('Tubería:',c,'Caudal:',round(float(q),2),'L/s')\n",
    "    c+=1"
   ]
  },
  {
   "cell_type": "markdown",
   "metadata": {},
   "source": [
    "#### Altura piezométrica  en cada nodo:"
   ]
  },
  {
   "cell_type": "code",
   "execution_count": 10,
   "metadata": {},
   "outputs": [
    {
     "name": "stdout",
     "output_type": "stream",
     "text": [
      "Nodo: 2 Altura Piezométrica: 89.85 mts\n",
      "Nodo: 3 Altura Piezométrica: 91.43 mts\n",
      "Nodo: 4 Altura Piezométrica: 88.71 mts\n",
      "Nodo: 5 Altura Piezométrica: 85.58 mts\n",
      "Nodo: 6 Altura Piezométrica: 81.34 mts\n",
      "Nodo: 7 Altura Piezométrica: 57.59 mts\n",
      "Nodo: 8 Altura Piezométrica: 67.99 mts\n"
     ]
    }
   ],
   "source": [
    "c = 2\n",
    "for h in H:\n",
    "    print('Nodo:',c,'Altura Piezométrica:',round(float(h),2),'mts')\n",
    "    c+=1"
   ]
  },
  {
   "cell_type": "markdown",
   "metadata": {},
   "source": [
    "#### Velocidades máximas y mínimas:"
   ]
  },
  {
   "cell_type": "code",
   "execution_count": 11,
   "metadata": {},
   "outputs": [
    {
     "name": "stdout",
     "output_type": "stream",
     "text": [
      "Velocidad máxima en la red: 3.75 m/s\n",
      "Velocidad mínima en la red: 0.79 m/s\n"
     ]
    }
   ],
   "source": [
    "Vmin = round(float(min(V)),2)\n",
    "Vmax = round(float(max(V)),2)\n",
    "print('Velocidad máxima en la red:',Vmax,'m/s')\n",
    "print('Velocidad mínima en la red:',Vmin,'m/s')"
   ]
  },
  {
   "cell_type": "markdown",
   "metadata": {},
   "source": [
    "#### Alturas piezométricas máximas y mínimas:"
   ]
  },
  {
   "cell_type": "code",
   "execution_count": 12,
   "metadata": {},
   "outputs": [
    {
     "name": "stdout",
     "output_type": "stream",
     "text": [
      "Altura piezométrica máxima en la red: 91.43 mts\n",
      "Altura piezométrica mínima en la red: 57.59 mts\n"
     ]
    }
   ],
   "source": [
    "Hmin = round(float(min(H)),2)\n",
    "Hmax = round(float(max(H)),2)\n",
    "print('Altura piezométrica máxima en la red:',Hmax,'mts')\n",
    "print('Altura piezométrica mínima en la red:',Hmin,'mts')"
   ]
  },
  {
   "cell_type": "markdown",
   "metadata": {},
   "source": [
    "#### Gráfica de convergencia del error en el método del gradiente:"
   ]
  },
  {
   "cell_type": "code",
   "execution_count": 14,
   "metadata": {},
   "outputs": [
    {
     "data": {
      "image/png": "[encoded data removed]",
      "text/plain": [
       "<Figure size 432x288 with 1 Axes>"
      ]
     },
     "metadata": {
      "needs_background": "light"
     },
     "output_type": "display_data"
    }
   ],
   "source": [
    "import matplotlib.pyplot as plt\n",
    "n = len(e)\n",
    "emin = min(e)\n",
    "x = np.linspace(1, n, n)\n",
    "plt.plot(x,e)\n",
    "plt.title('Disminución del error en el método del gradiente')\n",
    "plt.xlabel('Número de la iteración')\n",
    "plt.ylabel('Error relativo (%)')\n",
    "plt.text(3, 40, 'Error final:'+str(emin)+'%', fontsize=12,color='blue')\n",
    "plt.axis([1, 13, 0, 100])\n",
    "plt.show()"
   ]
  }
 ],
 "metadata": {
  "kernelspec": {
   "display_name": "Python 3",
   "language": "python",
   "name": "python3"
  },
  "language_info": {
   "codemirror_mode": {
    "name": "ipython",
    "version": 3
   },
   "file_extension": ".py",
   "mimetype": "text/x-python",
   "name": "python",
   "nbconvert_exporter": "python",
   "pygments_lexer": "ipython3",
   "version": "3.7.0"
  }
 },
 "nbformat": 4,
 "nbformat_minor": 2
}
